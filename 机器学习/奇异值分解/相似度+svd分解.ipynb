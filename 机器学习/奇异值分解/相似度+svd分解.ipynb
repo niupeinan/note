{
 "cells": [
  {
   "cell_type": "markdown",
   "metadata": {},
   "source": [
    "# 相似度+svd分解"
   ]
  },
  {
   "cell_type": "markdown",
   "metadata": {},
   "source": [
    "## 课件中案例"
   ]
  },
  {
   "cell_type": "code",
   "execution_count": 77,
   "metadata": {},
   "outputs": [
    {
     "name": "stdout",
     "output_type": "stream",
     "text": [
      "[(0, 2, 0.99), (0, 4, 0.89), (0, 5, 0.85), (0, 1, 0.73), (0, 3, 0.3)]\n",
      "[(1, 4, 0.89), (1, 5, 0.89), (1, 0, 0.73), (1, 2, 0.65), (1, 3, 0.65)]\n",
      "[(2, 0, 0.99), (2, 4, 0.87), (2, 5, 0.83), (2, 1, 0.65), (2, 3, 0.26)]\n",
      "[(3, 5, 0.72), (3, 4, 0.66), (3, 1, 0.65), (3, 0, 0.3), (3, 2, 0.26)]\n",
      "[(4, 5, 1.0), (4, 0, 0.89), (4, 1, 0.89), (4, 2, 0.87), (4, 3, 0.66)]\n",
      "[(5, 4, 1.0), (5, 1, 0.89), (5, 0, 0.85), (5, 2, 0.83), (5, 3, 0.72)]\n"
     ]
    },
    {
     "data": {
      "image/png": "[encoded data removed]",
      "text/plain": [
       "<matplotlib.figure.Figure at 0x95fbb70>"
      ]
     },
     "metadata": {
      "needs_background": "light"
     },
     "output_type": "display_data"
    }
   ],
   "source": [
    "#1.计算相似度\n",
    "import numpy as np\n",
    "R=np.array([[5,5,0,5],[5,0,3,4],[3,4,0,3],[0,0,5,3],[5,4,4,5],[5,4,5,5]])\n",
    "\n",
    "def cos_dis(a,b):\n",
    "    return np.dot(a,b)/(np.linalg.norm(a)*np.linalg.norm(b))\n",
    "\n",
    "for i in range(R.shape[0]):\n",
    "    a=[]\n",
    "    for j in range(R.shape[0]):\n",
    "        if i!=j:\n",
    "            a.append((i,j,np.round(cos_dis(R[i],R[j]),2)))\n",
    "    c=sorted(a,key=lambda x:x[2],reverse=True)\n",
    "    print(c)\n",
    "    \n",
    "#2.降维处理（svd）\n",
    "import numpy as np\n",
    "R=np.array([[5,5,0,5],[5,0,3,4],[3,4,0,3],[0,0,5,3],[5,4,4,5],[5,4,5,5]])\n",
    "\n",
    "def cos_dis(a,b):\n",
    "    return np.dot(a,b)/(np.linalg.norm(a)*np.linalg.norm(b))\n",
    "    \n",
    "def sigma_k(sigma,percentage):\n",
    "    sigma2=0\n",
    "    k=0\n",
    "    for i in sigma:\n",
    "        sigma2+=i**2\n",
    "        k+=1\n",
    "        if sigma2/sum(sigma**2)>percentage:\n",
    "            return k\n",
    "        \n",
    "import matplotlib.pyplot as plt\n",
    "x=u_new[:,0]\n",
    "y=u_new[:,1]\n",
    "plt.rcParams['font.sans-serif']=['Microsoft YaHei']          \n",
    "plt.scatter(x,y)\n",
    "\n",
    "txt = ['s1','s2','s3','s4','s5','s6']\n",
    "for i in range(len(x)):\n",
    "    plt.annotate(txt[i],xy=(x[i]+0.003,y[i]+0.003))"
   ]
  },
  {
   "cell_type": "markdown",
   "metadata": {},
   "source": [
    "## 电影评分预测"
   ]
  },
  {
   "cell_type": "code",
   "execution_count": 12,
   "metadata": {},
   "outputs": [],
   "source": [
    "import pandas as pd\n",
    "import numpy as np\n",
    "data1=pd.read_excel('C:\\\\Users\\\\Administrator\\\\Desktop\\\\remmand.xlsx')\n",
    "data=data1.values\n",
    "data=data.T\n",
    "\n",
    "def f(data,item,user):\n",
    "    sim_total=0\n",
    "    sim_=0\n",
    "    for j in range(data.shape[0]):\n",
    "        if j!=item:\n",
    "            sim=cos_dis(data[item],data[j])\n",
    "            sim_total+=sim\n",
    "            sim_+=sim*data[j,user]\n",
    "    return sim_/sim_total\n",
    "\n",
    "def cos_dis(a,b):\n",
    "    return np.dot(a,b)/(np.linalg.norm(a)*np.linalg.norm(b))\n",
    "   \n",
    "def recommand(data,user):\n",
    "    item_scores=[]\n",
    "    for item in range(data.shape[0]):\n",
    "        if data[item,user]==0:\n",
    "            data[item,user]=f(data,item,user)\n",
    "            item_scores.append((item,data[item,user]))\n",
    "    item_scores=sorted(item_scores,key=lambda x:x[1],reverse=True)\n",
    "    return item_scores[:3]"
   ]
  },
  {
   "cell_type": "code",
   "execution_count": 13,
   "metadata": {},
   "outputs": [
    {
     "data": {
      "text/plain": [
       "[(12, 3.31371143682255), (6, 2.9248858897184724), (1, 2.7973671324650384)]"
      ]
     },
     "execution_count": 13,
     "metadata": {},
     "output_type": "execute_result"
    }
   ],
   "source": [
    "recommand(data,user=2)"
   ]
  },
  {
   "cell_type": "code",
   "execution_count": 82,
   "metadata": {
    "collapsed": true
   },
   "outputs": [
    {
     "data": {
      "text/plain": [
       "array([[5.        , 2.06851416, 5.        , 3.        , 4.        ,\n",
       "        0.        , 4.        , 0.        ],\n",
       "       [3.        , 2.89765383, 0.        , 0.        , 0.        ,\n",
       "        0.        , 0.        , 0.        ],\n",
       "       [4.5       , 3.        , 0.        , 0.        , 4.5       ,\n",
       "        5.        , 5.        , 0.        ],\n",
       "       [5.        , 2.52673272, 5.        , 0.        , 5.        ,\n",
       "        4.        , 0.        , 0.        ],\n",
       "       [3.        , 5.        , 3.        , 4.        , 2.        ,\n",
       "        3.        , 1.        , 4.5       ],\n",
       "       [4.5       , 5.        , 4.5       , 0.        , 0.        ,\n",
       "        0.        , 0.        , 0.        ],\n",
       "       [5.        , 3.        , 0.        , 3.5       , 0.        ,\n",
       "        0.        , 0.        , 0.        ],\n",
       "       [0.        , 4.        , 2.        , 5.        , 2.        ,\n",
       "        0.        , 0.        , 4.        ],\n",
       "       [0.        , 3.        , 0.        , 4.5       , 0.        ,\n",
       "        3.5       , 0.        , 0.        ],\n",
       "       [0.        , 2.40013915, 5.        , 3.5       , 0.        ,\n",
       "        5.        , 0.        , 0.        ],\n",
       "       [0.        , 2.80698986, 0.        , 4.        , 0.        ,\n",
       "        0.        , 0.        , 4.5       ],\n",
       "       [0.        , 2.12850848, 0.        , 0.        , 0.        ,\n",
       "        5.        , 0.        , 0.        ],\n",
       "       [0.        , 2.77607102, 0.        , 0.        , 0.        ,\n",
       "        4.5       , 0.        , 0.        ],\n",
       "       [0.        , 2.0986476 , 0.        , 0.        , 0.        ,\n",
       "        0.        , 4.        , 2.5       ],\n",
       "       [0.        , 2.88367143, 0.        , 0.        , 0.        ,\n",
       "        0.        , 5.        , 3.        ]])"
      ]
     },
     "execution_count": 82,
     "metadata": {},
     "output_type": "execute_result"
    }
   ],
   "source": [
    "data"
   ]
  },
  {
   "cell_type": "markdown",
   "metadata": {},
   "source": [
    "降维后推荐"
   ]
  },
  {
   "cell_type": "code",
   "execution_count": 11,
   "metadata": {},
   "outputs": [
    {
     "data": {
      "text/plain": [
       "[(10, 0.5040138771565142), (6, 0.1956748277728743), (2, 0.11880180432451662)]"
      ]
     },
     "execution_count": 11,
     "metadata": {},
     "output_type": "execute_result"
    }
   ],
   "source": [
    "def sigma_k(sigma,percentage):\n",
    "    sigma2=0\n",
    "    k=0\n",
    "    for i in sigma:\n",
    "        sigma2+=i**2\n",
    "        k+=1\n",
    "        if sigma2/sum(sigma**2)>=percentage:\n",
    "            return k\n",
    "        \n",
    "def svd(data,item,user,percentage):\n",
    "    u,sigma,v=np.linalg.svd(data)\n",
    "    k=sigma_k(sigma,percentage)\n",
    "    u=u[:,:k]\n",
    "    sim_=0\n",
    "    sim_total=0\n",
    "    for j in range(data.shape[0]):\n",
    "        if j!=item:\n",
    "            sim=cos_dis(u[j],u[item])\n",
    "            sim_+=sim*data[j,user]\n",
    "            sim_total+=sim\n",
    "    return sim_/sim_total\n",
    "\n",
    "\n",
    "def reco(data,user,percentage=1):\n",
    "    item_sores=[]\n",
    "    for item in range(data.shape[0]):   \n",
    "        if data[item,user]==0:\n",
    "            data[item,user]=svd(data,item,user,percentage)\n",
    "            item_sores.append((item,data[item,user])) \n",
    "    item_sores=sorted(item_sores,key=lambda x:x[1],reverse=True)\n",
    "    return item_sores[:3] \n",
    "reco(data,user=2)"
   ]
  }
 ],
 "metadata": {
  "kernelspec": {
   "display_name": "Python 3",
   "language": "python",
   "name": "python3"
  },
  "language_info": {
   "codemirror_mode": {
    "name": "ipython",
    "version": 3
   },
   "file_extension": ".py",
   "mimetype": "text/x-python",
   "name": "python",
   "nbconvert_exporter": "python",
   "pygments_lexer": "ipython3",
   "version": "3.6.4"
  },
  "toc": {
   "base_numbering": 1,
   "nav_menu": {},
   "number_sections": true,
   "sideBar": true,
   "skip_h1_title": false,
   "title_cell": "Table of Contents",
   "title_sidebar": "Contents",
   "toc_cell": false,
   "toc_position": {},
   "toc_section_display": true,
   "toc_window_display": false
  }
 },
 "nbformat": 4,
 "nbformat_minor": 2
}
